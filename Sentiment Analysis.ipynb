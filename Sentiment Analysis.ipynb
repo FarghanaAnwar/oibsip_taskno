{
 "cells": [
  {
   "cell_type": "code",
   "execution_count": 3,
   "id": "0cb22b1a-10e7-466d-99a0-7de1b0758509",
   "metadata": {},
   "outputs": [
    {
     "name": "stdout",
     "output_type": "stream",
     "text": [
      "Model Accuracy: 0.74\n",
      "Classification Report:\n",
      "               precision    recall  f1-score   support\n",
      "\n",
      "        -1.0       0.91      0.42      0.57      7152\n",
      "         0.0       0.88      0.66      0.76     11067\n",
      "         1.0       0.65      0.95      0.77     14375\n",
      "\n",
      "    accuracy                           0.74     32594\n",
      "   macro avg       0.81      0.68      0.70     32594\n",
      "weighted avg       0.79      0.74      0.72     32594\n",
      "\n"
     ]
    }
   ],
   "source": [
    "import pandas as pd\n",
    "from sklearn.model_selection import train_test_split\n",
    "from sklearn.feature_extraction.text import TfidfVectorizer\n",
    "from sklearn.naive_bayes import MultinomialNB\n",
    "from sklearn.metrics import accuracy_score, classification_report\n",
    "\n",
    "# Load the dataset\n",
    "file_path = \"E:\\\\Twitter_Data.csv\"\n",
    "df = pd.read_csv(file_path)\n",
    "\n",
    "# Data Cleaning\n",
    "df.drop_duplicates(inplace=True)  # Remove duplicate rows\n",
    "df.dropna(inplace=True)  # Remove missing values\n",
    "\n",
    "# Convert text column to lowercase\n",
    "df['clean_text'] = df['clean_text'].str.lower()\n",
    "\n",
    "# Splitting dataset\n",
    "X = df['clean_text']  # Features (text data)\n",
    "y = df['category']    # Target (sentiment labels)\n",
    "\n",
    "X_train, X_test, y_train, y_test = train_test_split(X, y, test_size=0.2, random_state=42)\n",
    "\n",
    "# Convert text data into numerical features using TF-IDF Vectorization\n",
    "vectorizer = TfidfVectorizer(max_features=5000)  # Limit features for efficiency\n",
    "X_train_tfidf = vectorizer.fit_transform(X_train)\n",
    "X_test_tfidf = vectorizer.transform(X_test)\n",
    "\n",
    "# Train a Naive Bayes classifier for sentiment analysis\n",
    "model = MultinomialNB()\n",
    "model.fit(X_train_tfidf, y_train)\n",
    "\n",
    "# Predictions\n",
    "y_pred = model.predict(X_test_tfidf)\n",
    "\n",
    "# Evaluate model performance\n",
    "accuracy = accuracy_score(y_test, y_pred)\n",
    "report = classification_report(y_test, y_pred)\n",
    "\n",
    "print(f\"Model Accuracy: {accuracy:.2f}\")\n",
    "print(\"Classification Report:\\n\", report)\n"
   ]
  },
  {
   "cell_type": "code",
   "execution_count": null,
   "id": "70c02429-ab31-45cf-a5db-ed8c6a91fc87",
   "metadata": {},
   "outputs": [],
   "source": []
  }
 ],
 "metadata": {
  "kernelspec": {
   "display_name": "Python [conda env:base] *",
   "language": "python",
   "name": "conda-base-py"
  },
  "language_info": {
   "codemirror_mode": {
    "name": "ipython",
    "version": 3
   },
   "file_extension": ".py",
   "mimetype": "text/x-python",
   "name": "python",
   "nbconvert_exporter": "python",
   "pygments_lexer": "ipython3",
   "version": "3.12.7"
  }
 },
 "nbformat": 4,
 "nbformat_minor": 5
}
